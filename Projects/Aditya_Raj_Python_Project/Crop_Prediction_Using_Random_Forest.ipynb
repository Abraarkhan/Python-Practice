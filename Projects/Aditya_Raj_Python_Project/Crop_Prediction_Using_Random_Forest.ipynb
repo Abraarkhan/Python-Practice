{
  "nbformat": 4,
  "nbformat_minor": 0,
  "metadata": {
    "colab": {
      "name": "Crop_Prediction_Using_Random_Forest.ipynb",
      "provenance": [],
      "collapsed_sections": []
    },
    "kernelspec": {
      "name": "python3",
      "display_name": "Python 3"
    }
  },
  "cells": [
    {
      "cell_type": "markdown",
      "metadata": {
        "id": "UhaJtwFF6ECH"
      },
      "source": [
        "# **Crop Production using Random Forest Algorithm**"
      ]
    },
    {
      "cell_type": "markdown",
      "metadata": {
        "id": "Zjd4LBNp6vWl"
      },
      "source": [
        "The data used here is taken from https://github.com/saeedkhaki92/CNN-RNN-Yield-Prediction.git\n",
        "\n",
        "\n",
        "The code in the github explains about CNN-RNN implementation but here only the data is used and not the code.\n",
        "\n",
        "\n",
        "The code below uses Random Forest Algorithm to predict production of corn."
      ]
    },
    {
      "cell_type": "code",
      "metadata": {
        "id": "rN5-l_4-HC_g",
        "colab": {
          "base_uri": "https://localhost:8080/",
          "height": 134
        },
        "outputId": "22af6f10-30de-47eb-c044-4c76d6f162e2"
      },
      "source": [
        "!git clone https://github.com/saeedkhaki92/CNN-RNN-Yield-Prediction.git"
      ],
      "execution_count": null,
      "outputs": [
        {
          "output_type": "stream",
          "text": [
            "Cloning into 'CNN-RNN-Yield-Prediction'...\n",
            "remote: Enumerating objects: 33, done.\u001b[K\n",
            "remote: Counting objects: 100% (33/33), done.\u001b[K\n",
            "remote: Compressing objects: 100% (33/33), done.\u001b[K\n",
            "remote: Total 164 (delta 18), reused 0 (delta 0), pack-reused 131\u001b[K\n",
            "Receiving objects: 100% (164/164), 5.15 MiB | 7.62 MiB/s, done.\n",
            "Resolving deltas: 100% (78/78), done.\n"
          ],
          "name": "stdout"
        }
      ]
    },
    {
      "cell_type": "code",
      "metadata": {
        "id": "EwjyuIo6Hf-v",
        "colab": {
          "base_uri": "https://localhost:8080/",
          "height": 33
        },
        "outputId": "38a04931-c652-44c5-dda8-9d41e5c783b1"
      },
      "source": [
        "cd /content/CNN-RNN-Yield-Prediction"
      ],
      "execution_count": null,
      "outputs": [
        {
          "output_type": "stream",
          "text": [
            "/content/CNN-RNN-Yield-Prediction\n"
          ],
          "name": "stdout"
        }
      ]
    },
    {
      "cell_type": "code",
      "metadata": {
        "id": "3hKztdw5zi3Z"
      },
      "source": [
        "import pandas as pd\n",
        "import numpy as np"
      ],
      "execution_count": null,
      "outputs": []
    },
    {
      "cell_type": "markdown",
      "metadata": {
        "id": "31mcM4as-syO"
      },
      "source": [
        "The data available in csv format is loaded here"
      ]
    },
    {
      "cell_type": "code",
      "metadata": {
        "id": "7bhJ_cHZMpyx"
      },
      "source": [
        "dataset = pd.read_csv(\"/content/CNN-RNN-Yield-Prediction/corn_data_csv.csv\")"
      ],
      "execution_count": null,
      "outputs": []
    },
    {
      "cell_type": "markdown",
      "metadata": {
        "id": "dxjgkSWUCaCk"
      },
      "source": [
        "Details about data:\n",
        "The file contains yield performance, management, weather and soil data for corn between years 1980 and 2018 across 1176 counties within 13 states of America.\n",
        "\n",
        "There are 6 weather components namely precepitation, solar radiation, snow water equivalent, maximum temperature, minimum temperature and vapour pressure of 52 weeks of each year.\n",
        "\n",
        "The soil components include wet soil bulk density, dry bulk density,\n",
        "clay percentage, upper limit of plant available water content,\n",
        "lower limit of plant available water content, hydraulic\n",
        "conductivity, organic matter percentage, pH, sand\n",
        "percentage, and saturated volumetric water content\n",
        "variables measured at depths 0–5, 5–10, 10–15, 15–30, 30–\n",
        "45, 45–60, 60–80, 80–100, and 100–120 cm.\n",
        "\n",
        "The management data contains the weekly cummulative percentage of planted fields within each state, starting from April of each year. The corn data includes 16 plantation date weeks.\n",
        "\n",
        "4 soil components measured at surface is also present in the dataset."
      ]
    },
    {
      "cell_type": "code",
      "metadata": {
        "id": "m0IwfA1zzdhg",
        "colab": {
          "base_uri": "https://localhost:8080/",
          "height": 244
        },
        "outputId": "3a5884f2-be79-45db-96db-bd1cdd44128c"
      },
      "source": [
        "dataset.head()"
      ],
      "execution_count": null,
      "outputs": [
        {
          "output_type": "execute_result",
          "data": {
            "text/html": [
              "<div>\n",
              "<style scoped>\n",
              "    .dataframe tbody tr th:only-of-type {\n",
              "        vertical-align: middle;\n",
              "    }\n",
              "\n",
              "    .dataframe tbody tr th {\n",
              "        vertical-align: top;\n",
              "    }\n",
              "\n",
              "    .dataframe thead th {\n",
              "        text-align: right;\n",
              "    }\n",
              "</style>\n",
              "<table border=\"1\" class=\"dataframe\">\n",
              "  <thead>\n",
              "    <tr style=\"text-align: right;\">\n",
              "      <th></th>\n",
              "      <th>Loc_Id</th>\n",
              "      <th>Year</th>\n",
              "      <th>Yield</th>\n",
              "      <th>W11</th>\n",
              "      <th>W12</th>\n",
              "      <th>W13</th>\n",
              "      <th>W14</th>\n",
              "      <th>W15</th>\n",
              "      <th>W16</th>\n",
              "      <th>W17</th>\n",
              "      <th>W18</th>\n",
              "      <th>W19</th>\n",
              "      <th>W110</th>\n",
              "      <th>W111</th>\n",
              "      <th>W112</th>\n",
              "      <th>W113</th>\n",
              "      <th>W114</th>\n",
              "      <th>W115</th>\n",
              "      <th>W116</th>\n",
              "      <th>W117</th>\n",
              "      <th>W118</th>\n",
              "      <th>W119</th>\n",
              "      <th>W120</th>\n",
              "      <th>W121</th>\n",
              "      <th>W122</th>\n",
              "      <th>W123</th>\n",
              "      <th>W124</th>\n",
              "      <th>W125</th>\n",
              "      <th>W126</th>\n",
              "      <th>W127</th>\n",
              "      <th>W128</th>\n",
              "      <th>W129</th>\n",
              "      <th>W130</th>\n",
              "      <th>W131</th>\n",
              "      <th>W132</th>\n",
              "      <th>W133</th>\n",
              "      <th>W134</th>\n",
              "      <th>W135</th>\n",
              "      <th>W136</th>\n",
              "      <th>W137</th>\n",
              "      <th>...</th>\n",
              "      <th>S91</th>\n",
              "      <th>S92</th>\n",
              "      <th>S93</th>\n",
              "      <th>S94</th>\n",
              "      <th>S95</th>\n",
              "      <th>S96</th>\n",
              "      <th>S97</th>\n",
              "      <th>S98</th>\n",
              "      <th>S99</th>\n",
              "      <th>S910</th>\n",
              "      <th>S101</th>\n",
              "      <th>S102</th>\n",
              "      <th>S103</th>\n",
              "      <th>S104</th>\n",
              "      <th>S105</th>\n",
              "      <th>S106</th>\n",
              "      <th>S107</th>\n",
              "      <th>S108</th>\n",
              "      <th>S109</th>\n",
              "      <th>S1010</th>\n",
              "      <th>P1</th>\n",
              "      <th>P2</th>\n",
              "      <th>P3</th>\n",
              "      <th>P4</th>\n",
              "      <th>P5</th>\n",
              "      <th>P6</th>\n",
              "      <th>P7</th>\n",
              "      <th>P8</th>\n",
              "      <th>P9</th>\n",
              "      <th>P10</th>\n",
              "      <th>P11</th>\n",
              "      <th>P12</th>\n",
              "      <th>P13</th>\n",
              "      <th>P14</th>\n",
              "      <th>P15</th>\n",
              "      <th>P16</th>\n",
              "      <th>S_surface1</th>\n",
              "      <th>S_surface2</th>\n",
              "      <th>S_surface3</th>\n",
              "      <th>S_surface4</th>\n",
              "    </tr>\n",
              "  </thead>\n",
              "  <tbody>\n",
              "    <tr>\n",
              "      <th>0</th>\n",
              "      <td>18.0</td>\n",
              "      <td>2018.0</td>\n",
              "      <td>190.3</td>\n",
              "      <td>0.011905</td>\n",
              "      <td>1.059524</td>\n",
              "      <td>0.821429</td>\n",
              "      <td>3.369048</td>\n",
              "      <td>0.214286</td>\n",
              "      <td>3.797619</td>\n",
              "      <td>0.476190</td>\n",
              "      <td>7.750000</td>\n",
              "      <td>2.011905</td>\n",
              "      <td>0.940476</td>\n",
              "      <td>0.726190</td>\n",
              "      <td>0.000000</td>\n",
              "      <td>2.309524</td>\n",
              "      <td>0.928571</td>\n",
              "      <td>2.678571</td>\n",
              "      <td>1.202381</td>\n",
              "      <td>0.000000</td>\n",
              "      <td>5.190476</td>\n",
              "      <td>4.166667</td>\n",
              "      <td>6.023810</td>\n",
              "      <td>5.559524</td>\n",
              "      <td>4.750000</td>\n",
              "      <td>10.226190</td>\n",
              "      <td>1.166667</td>\n",
              "      <td>13.607143</td>\n",
              "      <td>5.559524</td>\n",
              "      <td>1.619048</td>\n",
              "      <td>3.154762</td>\n",
              "      <td>2.892857</td>\n",
              "      <td>0.023810</td>\n",
              "      <td>0.869048</td>\n",
              "      <td>4.904762</td>\n",
              "      <td>1.904762</td>\n",
              "      <td>2.416667</td>\n",
              "      <td>10.250000</td>\n",
              "      <td>6.785714</td>\n",
              "      <td>0.000000</td>\n",
              "      <td>...</td>\n",
              "      <td>6.75</td>\n",
              "      <td>6.75</td>\n",
              "      <td>6.75</td>\n",
              "      <td>6.75</td>\n",
              "      <td>6.75</td>\n",
              "      <td>6.672222</td>\n",
              "      <td>8.354167</td>\n",
              "      <td>17.797917</td>\n",
              "      <td>23.554167</td>\n",
              "      <td>34.537963</td>\n",
              "      <td>46.833333</td>\n",
              "      <td>46.833333</td>\n",
              "      <td>46.833333</td>\n",
              "      <td>46.666667</td>\n",
              "      <td>45.916667</td>\n",
              "      <td>45.416667</td>\n",
              "      <td>44.916667</td>\n",
              "      <td>41.916667</td>\n",
              "      <td>39.416667</td>\n",
              "      <td>32.351852</td>\n",
              "      <td>0.0</td>\n",
              "      <td>0.0</td>\n",
              "      <td>0.0</td>\n",
              "      <td>0.0</td>\n",
              "      <td>4.0</td>\n",
              "      <td>28.0</td>\n",
              "      <td>42.0</td>\n",
              "      <td>16.0</td>\n",
              "      <td>6.0</td>\n",
              "      <td>4.0</td>\n",
              "      <td>0.0</td>\n",
              "      <td>0.0</td>\n",
              "      <td>0.0</td>\n",
              "      <td>0.0</td>\n",
              "      <td>0.0</td>\n",
              "      <td>0.0</td>\n",
              "      <td>1.816667</td>\n",
              "      <td>0.818167</td>\n",
              "      <td>0.82475</td>\n",
              "      <td>135.25</td>\n",
              "    </tr>\n",
              "    <tr>\n",
              "      <th>1</th>\n",
              "      <td>18.0</td>\n",
              "      <td>2017.0</td>\n",
              "      <td>204.1</td>\n",
              "      <td>0.035714</td>\n",
              "      <td>1.297619</td>\n",
              "      <td>6.559524</td>\n",
              "      <td>0.619048</td>\n",
              "      <td>0.035714</td>\n",
              "      <td>1.964286</td>\n",
              "      <td>0.000000</td>\n",
              "      <td>1.452381</td>\n",
              "      <td>3.571429</td>\n",
              "      <td>1.047619</td>\n",
              "      <td>0.654762</td>\n",
              "      <td>1.226190</td>\n",
              "      <td>9.666667</td>\n",
              "      <td>5.000000</td>\n",
              "      <td>3.142857</td>\n",
              "      <td>3.357143</td>\n",
              "      <td>3.797619</td>\n",
              "      <td>9.654762</td>\n",
              "      <td>6.583333</td>\n",
              "      <td>1.988095</td>\n",
              "      <td>5.297619</td>\n",
              "      <td>0.154762</td>\n",
              "      <td>0.404762</td>\n",
              "      <td>6.559524</td>\n",
              "      <td>4.952381</td>\n",
              "      <td>4.964286</td>\n",
              "      <td>1.500000</td>\n",
              "      <td>7.095238</td>\n",
              "      <td>16.357143</td>\n",
              "      <td>4.297619</td>\n",
              "      <td>0.392857</td>\n",
              "      <td>0.190476</td>\n",
              "      <td>3.535714</td>\n",
              "      <td>0.773810</td>\n",
              "      <td>2.011905</td>\n",
              "      <td>0.214286</td>\n",
              "      <td>0.000000</td>\n",
              "      <td>...</td>\n",
              "      <td>6.75</td>\n",
              "      <td>6.75</td>\n",
              "      <td>6.75</td>\n",
              "      <td>6.75</td>\n",
              "      <td>6.75</td>\n",
              "      <td>6.672222</td>\n",
              "      <td>8.354167</td>\n",
              "      <td>17.797917</td>\n",
              "      <td>23.554167</td>\n",
              "      <td>34.537963</td>\n",
              "      <td>46.833333</td>\n",
              "      <td>46.833333</td>\n",
              "      <td>46.833333</td>\n",
              "      <td>46.666667</td>\n",
              "      <td>45.916667</td>\n",
              "      <td>45.416667</td>\n",
              "      <td>44.916667</td>\n",
              "      <td>41.916667</td>\n",
              "      <td>39.416667</td>\n",
              "      <td>32.351852</td>\n",
              "      <td>0.0</td>\n",
              "      <td>0.0</td>\n",
              "      <td>1.0</td>\n",
              "      <td>5.0</td>\n",
              "      <td>28.0</td>\n",
              "      <td>29.0</td>\n",
              "      <td>2.0</td>\n",
              "      <td>10.0</td>\n",
              "      <td>14.0</td>\n",
              "      <td>4.0</td>\n",
              "      <td>5.0</td>\n",
              "      <td>0.0</td>\n",
              "      <td>0.0</td>\n",
              "      <td>0.0</td>\n",
              "      <td>0.0</td>\n",
              "      <td>0.0</td>\n",
              "      <td>1.816667</td>\n",
              "      <td>0.818167</td>\n",
              "      <td>0.82475</td>\n",
              "      <td>135.25</td>\n",
              "    </tr>\n",
              "    <tr>\n",
              "      <th>2</th>\n",
              "      <td>18.0</td>\n",
              "      <td>2016.0</td>\n",
              "      <td>215.6</td>\n",
              "      <td>0.000000</td>\n",
              "      <td>2.214286</td>\n",
              "      <td>0.142857</td>\n",
              "      <td>0.333333</td>\n",
              "      <td>2.083333</td>\n",
              "      <td>0.119048</td>\n",
              "      <td>0.547619</td>\n",
              "      <td>0.000000</td>\n",
              "      <td>0.654762</td>\n",
              "      <td>1.166667</td>\n",
              "      <td>4.273810</td>\n",
              "      <td>1.428571</td>\n",
              "      <td>4.857143</td>\n",
              "      <td>3.380952</td>\n",
              "      <td>0.666667</td>\n",
              "      <td>1.202381</td>\n",
              "      <td>2.916667</td>\n",
              "      <td>5.607143</td>\n",
              "      <td>10.023810</td>\n",
              "      <td>1.869048</td>\n",
              "      <td>2.535714</td>\n",
              "      <td>4.500000</td>\n",
              "      <td>1.392857</td>\n",
              "      <td>6.642857</td>\n",
              "      <td>4.178571</td>\n",
              "      <td>0.226190</td>\n",
              "      <td>6.416667</td>\n",
              "      <td>0.952381</td>\n",
              "      <td>2.119048</td>\n",
              "      <td>8.500000</td>\n",
              "      <td>3.821429</td>\n",
              "      <td>2.035714</td>\n",
              "      <td>2.952381</td>\n",
              "      <td>9.083333</td>\n",
              "      <td>7.952381</td>\n",
              "      <td>2.488095</td>\n",
              "      <td>0.928571</td>\n",
              "      <td>...</td>\n",
              "      <td>6.75</td>\n",
              "      <td>6.75</td>\n",
              "      <td>6.75</td>\n",
              "      <td>6.75</td>\n",
              "      <td>6.75</td>\n",
              "      <td>6.672222</td>\n",
              "      <td>8.354167</td>\n",
              "      <td>17.797917</td>\n",
              "      <td>23.554167</td>\n",
              "      <td>34.537963</td>\n",
              "      <td>46.833333</td>\n",
              "      <td>46.833333</td>\n",
              "      <td>46.833333</td>\n",
              "      <td>46.666667</td>\n",
              "      <td>45.916667</td>\n",
              "      <td>45.416667</td>\n",
              "      <td>44.916667</td>\n",
              "      <td>41.916667</td>\n",
              "      <td>39.416667</td>\n",
              "      <td>32.351852</td>\n",
              "      <td>0.0</td>\n",
              "      <td>0.0</td>\n",
              "      <td>2.0</td>\n",
              "      <td>10.0</td>\n",
              "      <td>30.0</td>\n",
              "      <td>24.0</td>\n",
              "      <td>12.0</td>\n",
              "      <td>5.0</td>\n",
              "      <td>6.0</td>\n",
              "      <td>5.0</td>\n",
              "      <td>3.0</td>\n",
              "      <td>0.0</td>\n",
              "      <td>0.0</td>\n",
              "      <td>0.0</td>\n",
              "      <td>0.0</td>\n",
              "      <td>0.0</td>\n",
              "      <td>1.816667</td>\n",
              "      <td>0.818167</td>\n",
              "      <td>0.82475</td>\n",
              "      <td>135.25</td>\n",
              "    </tr>\n",
              "    <tr>\n",
              "      <th>3</th>\n",
              "      <td>18.0</td>\n",
              "      <td>2015.0</td>\n",
              "      <td>182.9</td>\n",
              "      <td>3.071429</td>\n",
              "      <td>0.678571</td>\n",
              "      <td>0.119048</td>\n",
              "      <td>0.416667</td>\n",
              "      <td>4.238095</td>\n",
              "      <td>0.023810</td>\n",
              "      <td>0.000000</td>\n",
              "      <td>0.023810</td>\n",
              "      <td>1.333333</td>\n",
              "      <td>0.000000</td>\n",
              "      <td>0.000000</td>\n",
              "      <td>1.904762</td>\n",
              "      <td>0.166667</td>\n",
              "      <td>2.309524</td>\n",
              "      <td>5.964286</td>\n",
              "      <td>1.238095</td>\n",
              "      <td>3.023810</td>\n",
              "      <td>6.559524</td>\n",
              "      <td>4.916667</td>\n",
              "      <td>1.642857</td>\n",
              "      <td>5.690476</td>\n",
              "      <td>1.821429</td>\n",
              "      <td>1.952381</td>\n",
              "      <td>17.666667</td>\n",
              "      <td>5.214286</td>\n",
              "      <td>4.083333</td>\n",
              "      <td>4.738095</td>\n",
              "      <td>7.000000</td>\n",
              "      <td>3.583333</td>\n",
              "      <td>0.821429</td>\n",
              "      <td>0.559524</td>\n",
              "      <td>2.511905</td>\n",
              "      <td>5.238095</td>\n",
              "      <td>0.095238</td>\n",
              "      <td>4.869048</td>\n",
              "      <td>2.678571</td>\n",
              "      <td>1.940476</td>\n",
              "      <td>...</td>\n",
              "      <td>6.75</td>\n",
              "      <td>6.75</td>\n",
              "      <td>6.75</td>\n",
              "      <td>6.75</td>\n",
              "      <td>6.75</td>\n",
              "      <td>6.672222</td>\n",
              "      <td>8.354167</td>\n",
              "      <td>17.797917</td>\n",
              "      <td>23.554167</td>\n",
              "      <td>34.537963</td>\n",
              "      <td>46.833333</td>\n",
              "      <td>46.833333</td>\n",
              "      <td>46.833333</td>\n",
              "      <td>46.666667</td>\n",
              "      <td>45.916667</td>\n",
              "      <td>45.416667</td>\n",
              "      <td>44.916667</td>\n",
              "      <td>41.916667</td>\n",
              "      <td>39.416667</td>\n",
              "      <td>32.351852</td>\n",
              "      <td>0.0</td>\n",
              "      <td>0.0</td>\n",
              "      <td>0.0</td>\n",
              "      <td>0.0</td>\n",
              "      <td>15.0</td>\n",
              "      <td>16.0</td>\n",
              "      <td>38.0</td>\n",
              "      <td>19.0</td>\n",
              "      <td>6.0</td>\n",
              "      <td>3.0</td>\n",
              "      <td>3.0</td>\n",
              "      <td>0.0</td>\n",
              "      <td>0.0</td>\n",
              "      <td>0.0</td>\n",
              "      <td>0.0</td>\n",
              "      <td>0.0</td>\n",
              "      <td>1.816667</td>\n",
              "      <td>0.818167</td>\n",
              "      <td>0.82475</td>\n",
              "      <td>135.25</td>\n",
              "    </tr>\n",
              "    <tr>\n",
              "      <th>4</th>\n",
              "      <td>18.0</td>\n",
              "      <td>2014.0</td>\n",
              "      <td>194.1</td>\n",
              "      <td>2.250000</td>\n",
              "      <td>2.821429</td>\n",
              "      <td>0.880952</td>\n",
              "      <td>0.797619</td>\n",
              "      <td>1.297619</td>\n",
              "      <td>1.095238</td>\n",
              "      <td>1.476190</td>\n",
              "      <td>4.892857</td>\n",
              "      <td>1.190476</td>\n",
              "      <td>0.428571</td>\n",
              "      <td>0.523810</td>\n",
              "      <td>0.750000</td>\n",
              "      <td>1.095238</td>\n",
              "      <td>2.619048</td>\n",
              "      <td>3.678571</td>\n",
              "      <td>0.297619</td>\n",
              "      <td>3.809524</td>\n",
              "      <td>0.880952</td>\n",
              "      <td>3.559524</td>\n",
              "      <td>2.904762</td>\n",
              "      <td>2.428571</td>\n",
              "      <td>3.011905</td>\n",
              "      <td>2.309524</td>\n",
              "      <td>6.059524</td>\n",
              "      <td>12.607143</td>\n",
              "      <td>11.392857</td>\n",
              "      <td>3.702381</td>\n",
              "      <td>5.309524</td>\n",
              "      <td>0.202381</td>\n",
              "      <td>0.071429</td>\n",
              "      <td>5.761905</td>\n",
              "      <td>2.416667</td>\n",
              "      <td>0.000000</td>\n",
              "      <td>8.738095</td>\n",
              "      <td>2.309524</td>\n",
              "      <td>3.821429</td>\n",
              "      <td>6.238095</td>\n",
              "      <td>...</td>\n",
              "      <td>6.75</td>\n",
              "      <td>6.75</td>\n",
              "      <td>6.75</td>\n",
              "      <td>6.75</td>\n",
              "      <td>6.75</td>\n",
              "      <td>6.672222</td>\n",
              "      <td>8.354167</td>\n",
              "      <td>17.797917</td>\n",
              "      <td>23.554167</td>\n",
              "      <td>34.537963</td>\n",
              "      <td>46.833333</td>\n",
              "      <td>46.833333</td>\n",
              "      <td>46.833333</td>\n",
              "      <td>46.666667</td>\n",
              "      <td>45.916667</td>\n",
              "      <td>45.416667</td>\n",
              "      <td>44.916667</td>\n",
              "      <td>41.916667</td>\n",
              "      <td>39.416667</td>\n",
              "      <td>32.351852</td>\n",
              "      <td>0.0</td>\n",
              "      <td>0.0</td>\n",
              "      <td>0.0</td>\n",
              "      <td>1.0</td>\n",
              "      <td>4.0</td>\n",
              "      <td>27.0</td>\n",
              "      <td>11.0</td>\n",
              "      <td>35.0</td>\n",
              "      <td>6.0</td>\n",
              "      <td>11.0</td>\n",
              "      <td>3.0</td>\n",
              "      <td>2.0</td>\n",
              "      <td>0.0</td>\n",
              "      <td>0.0</td>\n",
              "      <td>0.0</td>\n",
              "      <td>0.0</td>\n",
              "      <td>1.816667</td>\n",
              "      <td>0.818167</td>\n",
              "      <td>0.82475</td>\n",
              "      <td>135.25</td>\n",
              "    </tr>\n",
              "  </tbody>\n",
              "</table>\n",
              "<p>5 rows × 435 columns</p>\n",
              "</div>"
            ],
            "text/plain": [
              "   Loc_Id    Year  Yield  ...  S_surface2  S_surface3  S_surface4\n",
              "0    18.0  2018.0  190.3  ...    0.818167     0.82475      135.25\n",
              "1    18.0  2017.0  204.1  ...    0.818167     0.82475      135.25\n",
              "2    18.0  2016.0  215.6  ...    0.818167     0.82475      135.25\n",
              "3    18.0  2015.0  182.9  ...    0.818167     0.82475      135.25\n",
              "4    18.0  2014.0  194.1  ...    0.818167     0.82475      135.25\n",
              "\n",
              "[5 rows x 435 columns]"
            ]
          },
          "metadata": {
            "tags": []
          },
          "execution_count": 5
        }
      ]
    },
    {
      "cell_type": "markdown",
      "metadata": {
        "id": "tVTgHe8S-2rh"
      },
      "source": [
        "Attributes and labels are separated here. x is the array containing all the attributes and y contains the labels"
      ]
    },
    {
      "cell_type": "code",
      "metadata": {
        "id": "m2-c0gi9zuyH"
      },
      "source": [
        "x = dataset.iloc[:,3:].values\n",
        "y = dataset.iloc[:,2].values"
      ],
      "execution_count": null,
      "outputs": []
    },
    {
      "cell_type": "markdown",
      "metadata": {
        "id": "DGnY1FOX_idU"
      },
      "source": [
        "Training and testing data are separated here using train_test_split"
      ]
    },
    {
      "cell_type": "code",
      "metadata": {
        "id": "i1CWCGS62XXJ"
      },
      "source": [
        "from sklearn.model_selection import train_test_split\n",
        "x_train, x_test, y_train, y_test = train_test_split(x, y, test_size=0.25, random_state=0)"
      ],
      "execution_count": null,
      "outputs": []
    },
    {
      "cell_type": "markdown",
      "metadata": {
        "id": "KzxnkGcJ_ybc"
      },
      "source": [
        "The range of data is not uniform. So the data is being scaled here using StandardScaler class."
      ]
    },
    {
      "cell_type": "code",
      "metadata": {
        "id": "G1VD4QRj3WJ4"
      },
      "source": [
        "from sklearn.preprocessing import StandardScaler\n",
        "sc = StandardScaler()\n",
        "\n",
        "x_train = sc.fit_transform(x_train)\n",
        "x_test = sc.transform(x_test)"
      ],
      "execution_count": null,
      "outputs": []
    },
    {
      "cell_type": "markdown",
      "metadata": {
        "id": "-8SPB1Q1Au4S"
      },
      "source": [
        "The data is being trained here using RandomForestRegressor class from sklearn.ensemble library. The parameter n_estimators defines the number of decision trees in the Random Forest and is set to 50 in this case.\n",
        "\n",
        "The next line predicts the value of crop yield in the testing data x_test and stores in y_pred."
      ]
    },
    {
      "cell_type": "code",
      "metadata": {
        "id": "V96JSxwV31jY"
      },
      "source": [
        "from sklearn.ensemble import RandomForestRegressor\n",
        "regressor = RandomForestRegressor(n_estimators=50,  random_state=0)\n",
        "regressor.fit(x_train, y_train)\n",
        "y_pred = regressor.predict(x_test)"
      ],
      "execution_count": null,
      "outputs": []
    },
    {
      "cell_type": "markdown",
      "metadata": {
        "id": "ZEcg3PJ7BWAW"
      },
      "source": [
        "Here the error is found out using metrics library of sklearn.\n",
        "Mean absolute error, mean squared error and root mean squared error is printed here."
      ]
    },
    {
      "cell_type": "code",
      "metadata": {
        "id": "v1V7R33Z0hWG"
      },
      "source": [
        "from sklearn import metrics"
      ],
      "execution_count": null,
      "outputs": []
    },
    {
      "cell_type": "code",
      "metadata": {
        "id": "YxvFaaTysuwp"
      },
      "source": [
        "print(\"Mean Absolute Error:\", metrics.mean_absolute_error(y_test, y_pred))\n",
        "print(\"Mean Squared Error:\", metrics.mean_squared_error(y_test, y_pred))\n",
        "print(\"Root Mean Squared Error:\", np.sqrt(metrics.mean_squared_error(y_test, y_pred)))"
      ],
      "execution_count": null,
      "outputs": []
    },
    {
      "cell_type": "markdown",
      "metadata": {
        "id": "MwdSmvSFCHEq"
      },
      "source": [
        "The coefficient of determination (R^2) is printed here. The score is 0.9127 which is a very good prediction."
      ]
    },
    {
      "cell_type": "code",
      "metadata": {
        "id": "-fzeAmBi17kT",
        "colab": {
          "base_uri": "https://localhost:8080/",
          "height": 34
        },
        "outputId": "3d0c303f-bb1b-4892-af91-d0d707c94d27"
      },
      "source": [
        "metrics.r2_score(y_test, y_pred)"
      ],
      "execution_count": null,
      "outputs": [
        {
          "output_type": "execute_result",
          "data": {
            "text/plain": [
              "0.9127184528343927"
            ]
          },
          "metadata": {
            "tags": []
          },
          "execution_count": 98
        }
      ]
    },
    {
      "cell_type": "code",
      "metadata": {
        "id": "nnZzaLpSYOcq"
      },
      "source": [
        "from sklearn import svm"
      ],
      "execution_count": null,
      "outputs": []
    },
    {
      "cell_type": "code",
      "metadata": {
        "id": "LhhZRLZ_YUTf"
      },
      "source": [
        "regressor_svm = svm.SVR(kernel='linear')\n",
        "regressor_svm.fit(x_train, y_train)\n",
        "pred_svm=regressor_svm.predict(x_test)"
      ],
      "execution_count": null,
      "outputs": []
    },
    {
      "cell_type": "code",
      "metadata": {
        "id": "jcR_r1KdYrmj",
        "colab": {
          "base_uri": "https://localhost:8080/",
          "height": 34
        },
        "outputId": "fa9467eb-f7cf-4f54-d898-5d652cf99bbf"
      },
      "source": [
        "regressor_svm.score(x_test, y_test)"
      ],
      "execution_count": null,
      "outputs": [
        {
          "output_type": "execute_result",
          "data": {
            "text/plain": [
              "0.9113661099846196"
            ]
          },
          "metadata": {
            "tags": []
          },
          "execution_count": 101
        }
      ]
    },
    {
      "cell_type": "code",
      "metadata": {
        "id": "he1lrpxPY0Tc",
        "colab": {
          "base_uri": "https://localhost:8080/",
          "height": 34
        },
        "outputId": "6d71d22b-d93c-4cf8-bbdb-42490a737c0a"
      },
      "source": [
        "metrics.r2_score(y_test, pred_svm)"
      ],
      "execution_count": null,
      "outputs": [
        {
          "output_type": "execute_result",
          "data": {
            "text/plain": [
              "0.9113661099846196"
            ]
          },
          "metadata": {
            "tags": []
          },
          "execution_count": 102
        }
      ]
    },
    {
      "cell_type": "code",
      "metadata": {
        "id": "VJedovvBaNAt"
      },
      "source": [
        "from sklearn.linear_model import LinearRegression\n",
        "linear_reg = LinearRegression()"
      ],
      "execution_count": null,
      "outputs": []
    },
    {
      "cell_type": "code",
      "metadata": {
        "id": "tId5D4L-atqV",
        "colab": {
          "base_uri": "https://localhost:8080/",
          "height": 34
        },
        "outputId": "2199ca8b-1ab0-4242-d3aa-8af2aac10b00"
      },
      "source": [
        "linear_reg.fit(x_train, y_train)\n",
        "linear_reg.score(x_test, y_test)"
      ],
      "execution_count": null,
      "outputs": [
        {
          "output_type": "execute_result",
          "data": {
            "text/plain": [
              "0.9249934701233827"
            ]
          },
          "metadata": {
            "tags": []
          },
          "execution_count": 104
        }
      ]
    },
    {
      "cell_type": "code",
      "metadata": {
        "id": "0MzCAK6KbCdh"
      },
      "source": [
        "from sklearn.ensemble import GradientBoostingRegressor\n",
        "gr = GradientBoostingRegressor(n_estimators = 500, random_state=0)\n",
        "gr.fit(x_train, y_train)\n",
        "gr.score(x_test, y_test)"
      ],
      "execution_count": null,
      "outputs": []
    },
    {
      "cell_type": "code",
      "metadata": {
        "id": "lTqERcPUgPS0",
        "colab": {
          "base_uri": "https://localhost:8080/",
          "height": 51
        },
        "outputId": "1287cab3-f55c-4205-9257-240275928fd6"
      },
      "source": [
        "import xgboost as xgb\n",
        "data_dmatrix = xgb.DMatrix(data=x,label=y)\n",
        "X_train, X_test, Y_train, Y_test = train_test_split(x, y, test_size=0.2, random_state=123)\n",
        "xg_reg = xgb.XGBRegressor(objective ='reg:linear', learning_rate = 0.1, max_depth = 3, n_estimators = 500)\n",
        "xg_reg.fit(X_train,Y_train)\n",
        "preds = xg_reg.predict(X_test)\n",
        "metrics.r2_score(Y_test, preds)"
      ],
      "execution_count": null,
      "outputs": [
        {
          "output_type": "stream",
          "text": [
            "[16:20:13] WARNING: /workspace/src/objective/regression_obj.cu:152: reg:linear is now deprecated in favor of reg:squarederror.\n"
          ],
          "name": "stdout"
        },
        {
          "output_type": "execute_result",
          "data": {
            "text/plain": [
              "0.9316561438196429"
            ]
          },
          "metadata": {
            "tags": []
          },
          "execution_count": 106
        }
      ]
    },
    {
      "cell_type": "code",
      "metadata": {
        "id": "_An3bMLAwLdE",
        "colab": {
          "base_uri": "https://localhost:8080/",
          "height": 68
        },
        "outputId": "e2003e41-ae01-40b0-ab03-c9549c6fd86c"
      },
      "source": [
        "print(\"Mean Absolute Error:\", metrics.mean_absolute_error(Y_test,preds))\n",
        "print(\"Mean Squared Error:\", metrics.mean_squared_error(Y_test, preds))\n",
        "print(\"Root Mean Squared Error:\", np.sqrt(metrics.mean_squared_error(Y_test, preds)))"
      ],
      "execution_count": null,
      "outputs": [
        {
          "output_type": "stream",
          "text": [
            "Mean Absolute Error: 7.495639658927917\n",
            "Mean Squared Error: 94.66054147402151\n",
            "Root Mean Squared Error: 9.729364905995741\n"
          ],
          "name": "stdout"
        }
      ]
    },
    {
      "cell_type": "code",
      "metadata": {
        "id": "03JGi5bIGYwF",
        "colab": {
          "base_uri": "https://localhost:8080/",
          "height": 108
        },
        "outputId": "9f6c6f4c-4975-44e7-c679-5d24e8370d0f"
      },
      "source": [
        "import matplotlib.pyplot as plt\n",
        "\n",
        "xgb.plot_tree(xg_reg,num_trees=0)\n",
        "plt.rcParams['figure.figsize'] = [400, 100]\n",
        "plt.show()"
      ],
      "execution_count": null,
      "outputs": [
        {
          "output_type": "display_data",
          "data": {
            "image/png": "[encoded data removed]",
            "text/plain": [
              "<Figure size 432x288 with 1 Axes>"
            ]
          },
          "metadata": {
            "tags": [],
            "needs_background": "light"
          }
        }
      ]
    },
    {
      "cell_type": "code",
      "metadata": {
        "id": "QdtXjQTfxYkl"
      },
      "source": [
        "from sklearn.neighbors import KNeighborsRegressor"
      ],
      "execution_count": null,
      "outputs": []
    },
    {
      "cell_type": "code",
      "metadata": {
        "id": "Jm3G8JbXvV30",
        "colab": {
          "base_uri": "https://localhost:8080/",
          "height": 34
        },
        "outputId": "2aae33bd-7ba4-45e7-a7fd-ba641ee510ac"
      },
      "source": [
        "kneighbour = KNeighborsRegressor(n_neighbors=4)\n",
        "kneighbour.fit(x_train, y_train)\n",
        "pred = kneighbour.predict(x_test)\n",
        "metrics.r2_score(y_test, pred)"
      ],
      "execution_count": null,
      "outputs": [
        {
          "output_type": "execute_result",
          "data": {
            "text/plain": [
              "0.8725372461648653"
            ]
          },
          "metadata": {
            "tags": []
          },
          "execution_count": 110
        }
      ]
    },
    {
      "cell_type": "code",
      "metadata": {
        "id": "Np5qXzumwEXd"
      },
      "source": [
        "from sklearn.svm import SVR\n",
        "svr_rbf = SVR(kernel='rbf', gamma='scale', coef0=10)\n",
        "svr_lin = SVR(kernel='linear', gamma='auto')\n",
        "svr_poly = SVR(kernel='poly',C=90, gamma='auto', degree=2, epsilon=2, coef0=5)"
      ],
      "execution_count": null,
      "outputs": []
    },
    {
      "cell_type": "code",
      "metadata": {
        "id": "ixFmuMYzXBH2",
        "colab": {
          "base_uri": "https://localhost:8080/",
          "height": 34
        },
        "outputId": "b9e7a60c-cee4-4564-b407-daa7177fe94e"
      },
      "source": [
        "svr_lin.fit(x_train, y_train)\n",
        "svr_lin.score(x_test, y_test)"
      ],
      "execution_count": null,
      "outputs": [
        {
          "output_type": "execute_result",
          "data": {
            "text/plain": [
              "0.9113661099846196"
            ]
          },
          "metadata": {
            "tags": []
          },
          "execution_count": 112
        }
      ]
    },
    {
      "cell_type": "code",
      "metadata": {
        "id": "xyxc5y_Dre2F",
        "colab": {
          "base_uri": "https://localhost:8080/",
          "height": 34
        },
        "outputId": "2c05a61a-cba4-4f47-bef8-d8f44739b18c"
      },
      "source": [
        "svr_poly.fit(x_train, y_train)\n",
        "svr_poly.score(x_test, y_test)"
      ],
      "execution_count": null,
      "outputs": [
        {
          "output_type": "execute_result",
          "data": {
            "text/plain": [
              "0.9368535060968606"
            ]
          },
          "metadata": {
            "tags": []
          },
          "execution_count": 113
        }
      ]
    },
    {
      "cell_type": "code",
      "metadata": {
        "id": "Bei5dzZIrh_j",
        "colab": {
          "base_uri": "https://localhost:8080/",
          "height": 34
        },
        "outputId": "d54c28be-e3a9-47b4-8192-7c6022349adb"
      },
      "source": [
        "svr_rbf.fit(x_train, y_train)\n",
        "svr_rbf.score(x_test, y_test)"
      ],
      "execution_count": null,
      "outputs": [
        {
          "output_type": "execute_result",
          "data": {
            "text/plain": [
              "0.6170834254673079"
            ]
          },
          "metadata": {
            "tags": []
          },
          "execution_count": 121
        }
      ]
    },
    {
      "cell_type": "code",
      "metadata": {
        "id": "t2oD2ETLWaPA"
      },
      "source": [
        "from sklearn.model_selection import GridSearchCV"
      ],
      "execution_count": null,
      "outputs": []
    },
    {
      "cell_type": "code",
      "metadata": {
        "id": "BNcqQaSHXXY5"
      },
      "source": [
        "from sklearn.kernel_ridge import KernelRidge"
      ],
      "execution_count": null,
      "outputs": []
    },
    {
      "cell_type": "code",
      "metadata": {
        "id": "GH4xgHU9W2I-",
        "colab": {
          "base_uri": "https://localhost:8080/",
          "height": 153
        },
        "outputId": "7ed662cb-bd55-473c-eb66-e1f81f32a4d0"
      },
      "source": [
        "kr = GridSearchCV(KernelRidge(kernel='linear', gamma=0.1), param_grid={\"alpha\": [1e0, 0.1, 1e-2, 1e-3], \"gamma\": np.logspace(-2, 2, 5)})\n",
        "kr"
      ],
      "execution_count": null,
      "outputs": [
        {
          "output_type": "execute_result",
          "data": {
            "text/plain": [
              "GridSearchCV(cv=None, error_score=nan,\n",
              "             estimator=KernelRidge(alpha=1, coef0=1, degree=3, gamma=0.1,\n",
              "                                   kernel='linear', kernel_params=None),\n",
              "             iid='deprecated', n_jobs=None,\n",
              "             param_grid={'alpha': [1.0, 0.1, 0.01, 0.001],\n",
              "                         'gamma': array([1.e-02, 1.e-01, 1.e+00, 1.e+01, 1.e+02])},\n",
              "             pre_dispatch='2*n_jobs', refit=True, return_train_score=False,\n",
              "             scoring=None, verbose=0)"
            ]
          },
          "metadata": {
            "tags": []
          },
          "execution_count": 153
        }
      ]
    },
    {
      "cell_type": "code",
      "metadata": {
        "id": "t9M9q9QvXkNs",
        "colab": {
          "base_uri": "https://localhost:8080/",
          "height": 153
        },
        "outputId": "d18ef267-cce9-4c70-a96c-3acca0152aba"
      },
      "source": [
        "kr.fit(x_train, y_train)"
      ],
      "execution_count": null,
      "outputs": [
        {
          "output_type": "execute_result",
          "data": {
            "text/plain": [
              "GridSearchCV(cv=None, error_score=nan,\n",
              "             estimator=KernelRidge(alpha=1, coef0=1, degree=3, gamma=0.1,\n",
              "                                   kernel='linear', kernel_params=None),\n",
              "             iid='deprecated', n_jobs=None,\n",
              "             param_grid={'alpha': [1.0, 0.1, 0.01, 0.001],\n",
              "                         'gamma': array([1.e-02, 1.e-01, 1.e+00, 1.e+01, 1.e+02])},\n",
              "             pre_dispatch='2*n_jobs', refit=True, return_train_score=False,\n",
              "             scoring=None, verbose=0)"
            ]
          },
          "metadata": {
            "tags": []
          },
          "execution_count": 154
        }
      ]
    },
    {
      "cell_type": "code",
      "metadata": {
        "id": "TYARfzuPcA61",
        "colab": {
          "base_uri": "https://localhost:8080/",
          "height": 34
        },
        "outputId": "03698e6c-8e1a-487d-c9ae-59d744487be2"
      },
      "source": [
        "kr.best_params_"
      ],
      "execution_count": null,
      "outputs": [
        {
          "output_type": "execute_result",
          "data": {
            "text/plain": [
              "{'alpha': 1.0, 'gamma': 0.01}"
            ]
          },
          "metadata": {
            "tags": []
          },
          "execution_count": 155
        }
      ]
    },
    {
      "cell_type": "code",
      "metadata": {
        "id": "kyCAfm70dU6q",
        "colab": {
          "base_uri": "https://localhost:8080/",
          "height": 34
        },
        "outputId": "6aff0a33-2d19-4fdd-d29e-ebe1535bfcef"
      },
      "source": [
        "kr=KernelRidge(alpha=5, gamma=1)\n",
        "krr.fit(x_train, y_train)\n",
        "krr.score(x_test, y_test)"
      ],
      "execution_count": null,
      "outputs": [
        {
          "output_type": "execute_result",
          "data": {
            "text/plain": [
              "0.8359695014869284"
            ]
          },
          "metadata": {
            "tags": []
          },
          "execution_count": 158
        }
      ]
    },
    {
      "cell_type": "code",
      "metadata": {
        "id": "MseudhM4hfhW",
        "colab": {
          "base_uri": "https://localhost:8080/",
          "height": 34
        },
        "outputId": "d24799f5-56ea-4f68-9ade-292cab1a3c30"
      },
      "source": [
        "from sklearn.linear_model import Ridge\n",
        "ridge=Ridge()\n",
        "ridge.fit(x_train, y_train)\n",
        "ridge.score(x_test, y_test)"
      ],
      "execution_count": null,
      "outputs": [
        {
          "output_type": "execute_result",
          "data": {
            "text/plain": [
              "0.9222263183341628"
            ]
          },
          "metadata": {
            "tags": []
          },
          "execution_count": 160
        }
      ]
    },
    {
      "cell_type": "code",
      "metadata": {
        "id": "RpYoCtsmib0-",
        "colab": {
          "base_uri": "https://localhost:8080/",
          "height": 34
        },
        "outputId": "9d61b7b5-9a84-4699-800d-0b7082df6e08"
      },
      "source": [
        "from sklearn.linear_model import RidgeCV\n",
        "rdgcv=RidgeCV(alphas=[0.001,0.01,0.1,1,2,3])\n",
        "rdgcv.fit(x_train, y_train)\n",
        "rdgcv.score(x_test, y_test)"
      ],
      "execution_count": null,
      "outputs": [
        {
          "output_type": "execute_result",
          "data": {
            "text/plain": [
              "0.9235903678846651"
            ]
          },
          "metadata": {
            "tags": []
          },
          "execution_count": 173
        }
      ]
    },
    {
      "cell_type": "code",
      "metadata": {
        "id": "R9807PA5j6Fb",
        "colab": {
          "base_uri": "https://localhost:8080/",
          "height": 598
        },
        "outputId": "6400671f-ac4b-4c00-b666-ac10d6df481b"
      },
      "source": [
        "from sklearn.linear_model import LassoCV\n",
        "lso=LassoCV()\n",
        "lso.fit(x_train, y_train)\n",
        "lso.score(x_test, y_test)"
      ],
      "execution_count": null,
      "outputs": [
        {
          "output_type": "stream",
          "text": [
            "/usr/local/lib/python3.6/dist-packages/sklearn/linear_model/_coordinate_descent.py:472: ConvergenceWarning: Objective did not converge. You might want to increase the number of iterations. Duality gap: 381.19003373620217, tolerance: 342.9087298333335\n",
            "  tol, rng, random, positive)\n",
            "/usr/local/lib/python3.6/dist-packages/sklearn/linear_model/_coordinate_descent.py:472: ConvergenceWarning: Objective did not converge. You might want to increase the number of iterations. Duality gap: 445.6028670251253, tolerance: 342.9087298333335\n",
            "  tol, rng, random, positive)\n",
            "/usr/local/lib/python3.6/dist-packages/sklearn/linear_model/_coordinate_descent.py:472: ConvergenceWarning: Objective did not converge. You might want to increase the number of iterations. Duality gap: 557.8367692271713, tolerance: 349.76550666500003\n",
            "  tol, rng, random, positive)\n",
            "/usr/local/lib/python3.6/dist-packages/sklearn/linear_model/_coordinate_descent.py:472: ConvergenceWarning: Objective did not converge. You might want to increase the number of iterations. Duality gap: 790.3996240225388, tolerance: 349.76550666500003\n",
            "  tol, rng, random, positive)\n",
            "/usr/local/lib/python3.6/dist-packages/sklearn/linear_model/_coordinate_descent.py:472: ConvergenceWarning: Objective did not converge. You might want to increase the number of iterations. Duality gap: 637.6247789804474, tolerance: 349.76550666500003\n",
            "  tol, rng, random, positive)\n",
            "/usr/local/lib/python3.6/dist-packages/sklearn/linear_model/_coordinate_descent.py:472: ConvergenceWarning: Objective did not converge. You might want to increase the number of iterations. Duality gap: 423.91159286058974, tolerance: 343.74238644958336\n",
            "  tol, rng, random, positive)\n",
            "/usr/local/lib/python3.6/dist-packages/sklearn/linear_model/_coordinate_descent.py:472: ConvergenceWarning: Objective did not converge. You might want to increase the number of iterations. Duality gap: 395.1422143319505, tolerance: 343.74238644958336\n",
            "  tol, rng, random, positive)\n",
            "/usr/local/lib/python3.6/dist-packages/sklearn/linear_model/_coordinate_descent.py:472: ConvergenceWarning: Objective did not converge. You might want to increase the number of iterations. Duality gap: 432.4426214003179, tolerance: 343.74238644958336\n",
            "  tol, rng, random, positive)\n",
            "/usr/local/lib/python3.6/dist-packages/sklearn/linear_model/_coordinate_descent.py:472: ConvergenceWarning: Objective did not converge. You might want to increase the number of iterations. Duality gap: 537.9464595486643, tolerance: 343.74238644958336\n",
            "  tol, rng, random, positive)\n",
            "/usr/local/lib/python3.6/dist-packages/sklearn/linear_model/_coordinate_descent.py:472: ConvergenceWarning: Objective did not converge. You might want to increase the number of iterations. Duality gap: 622.9622303197975, tolerance: 343.74238644958336\n",
            "  tol, rng, random, positive)\n",
            "/usr/local/lib/python3.6/dist-packages/sklearn/linear_model/_coordinate_descent.py:472: ConvergenceWarning: Objective did not converge. You might want to increase the number of iterations. Duality gap: 691.5270193793403, tolerance: 343.74238644958336\n",
            "  tol, rng, random, positive)\n",
            "/usr/local/lib/python3.6/dist-packages/sklearn/linear_model/_coordinate_descent.py:472: ConvergenceWarning: Objective did not converge. You might want to increase the number of iterations. Duality gap: 417.9153835030738, tolerance: 334.6264519583334\n",
            "  tol, rng, random, positive)\n",
            "/usr/local/lib/python3.6/dist-packages/sklearn/linear_model/_coordinate_descent.py:472: ConvergenceWarning: Objective did not converge. You might want to increase the number of iterations. Duality gap: 371.4861123635783, tolerance: 334.6264519583334\n",
            "  tol, rng, random, positive)\n",
            "/usr/local/lib/python3.6/dist-packages/sklearn/linear_model/_coordinate_descent.py:472: ConvergenceWarning: Objective did not converge. You might want to increase the number of iterations. Duality gap: 508.46186616871273, tolerance: 334.6264519583334\n",
            "  tol, rng, random, positive)\n",
            "/usr/local/lib/python3.6/dist-packages/sklearn/linear_model/_coordinate_descent.py:472: ConvergenceWarning: Objective did not converge. You might want to increase the number of iterations. Duality gap: 552.2607598821633, tolerance: 334.6264519583334\n",
            "  tol, rng, random, positive)\n",
            "/usr/local/lib/python3.6/dist-packages/sklearn/linear_model/_coordinate_descent.py:476: ConvergenceWarning: Objective did not converge. You might want to increase the number of iterations. Duality gap: 7835.724778902455, tolerance: 427.589846528\n",
            "  positive)\n"
          ],
          "name": "stderr"
        },
        {
          "output_type": "execute_result",
          "data": {
            "text/plain": [
              "0.9165390755024481"
            ]
          },
          "metadata": {
            "tags": []
          },
          "execution_count": 171
        }
      ]
    },
    {
      "cell_type": "code",
      "metadata": {
        "id": "rWRArTrDn62F",
        "colab": {
          "base_uri": "https://localhost:8080/",
          "height": 34
        },
        "outputId": "70ba6b86-65c7-43dc-b365-370b493a4cb5"
      },
      "source": [
        "from sklearn.linear_model import LassoLarsCV\n",
        "llcv=LassoLarsCV()\n",
        "llcv.fit(x_train, y_train)\n",
        "llcv.score(x_test, y_test)"
      ],
      "execution_count": null,
      "outputs": [
        {
          "output_type": "execute_result",
          "data": {
            "text/plain": [
              "0.9192359124941959"
            ]
          },
          "metadata": {
            "tags": []
          },
          "execution_count": 179
        }
      ]
    },
    {
      "cell_type": "code",
      "metadata": {
        "id": "nOdst6MJrSVA",
        "colab": {
          "base_uri": "https://localhost:8080/",
          "height": 33
        },
        "outputId": "525f083a-daf2-4fd7-fe25-1313f46f78a6"
      },
      "source": [
        "from sklearn.linear_model import SGDRegressor\n",
        "sdg=SGDRegressor(alpha=0.9, penalty='l1', max_iter=500, random_state=0, power_t=0.25, shuffle=False)\n",
        "sdg.fit(x_train, y_train)\n",
        "sdg.score(x_test, y_test)"
      ],
      "execution_count": null,
      "outputs": [
        {
          "output_type": "execute_result",
          "data": {
            "text/plain": [
              "0.8332693513855806"
            ]
          },
          "metadata": {
            "tags": []
          },
          "execution_count": 46
        }
      ]
    },
    {
      "cell_type": "code",
      "metadata": {
        "id": "pDm7457Co4Yg",
        "colab": {
          "base_uri": "https://localhost:8080/",
          "height": 34
        },
        "outputId": "8ac79fd4-8ba1-4ba1-c6c6-5864914931ce"
      },
      "source": [
        "from sklearn.ensemble import AdaBoostRegressor\n",
        "from sklearn.tree import DecisionTreeRegressor\n",
        "from sklearn.ensemble import GradientBoostingRegressor\n",
        "ada=AdaBoostRegressor(n_estimators=150, learning_rate=1.5, base_estimator=DecisionTreeRegressor(max_depth=10))\n",
        "ada.fit(x_train, y_train)\n",
        "ada.score(x_test, y_test)"
      ],
      "execution_count": null,
      "outputs": [
        {
          "output_type": "execute_result",
          "data": {
            "text/plain": [
              "0.9150259042942315"
            ]
          },
          "metadata": {
            "tags": []
          },
          "execution_count": 255
        }
      ]
    },
    {
      "cell_type": "code",
      "metadata": {
        "id": "kmvgMI7V_t6n",
        "colab": {
          "base_uri": "https://localhost:8080/",
          "height": 34
        },
        "outputId": "80c32055-ee93-44ab-efc5-f760e7bd98a9"
      },
      "source": [
        "import lightgbm as lgb\n",
        "train_data=lgb.Dataset(x_train, label=y_train)\n",
        "param = {'num_leaves':150, 'objective':'regression','max_depth':3,'learning_rate':0.4,'max_bin':200}\n",
        "param['metric'] = ['auc', 'binary_logloss']\n",
        "model = lgb.train(param, train_data, 200)\n",
        "ypred=model.predict(x_test)\n",
        "metrics.r2_score(ypred,y_test)"
      ],
      "execution_count": null,
      "outputs": [
        {
          "output_type": "execute_result",
          "data": {
            "text/plain": [
              "0.9115676610223308"
            ]
          },
          "metadata": {
            "tags": []
          },
          "execution_count": 289
        }
      ]
    }
  ]
}